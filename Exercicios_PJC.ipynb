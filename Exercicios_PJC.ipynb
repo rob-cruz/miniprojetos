{
  "nbformat": 4,
  "nbformat_minor": 0,
  "metadata": {
    "colab": {
      "name": "Exercicios_PJC.ipynb",
      "provenance": [],
      "authorship_tag": "ABX9TyO5dJU1Kb60i6DXy79nIn6W"
    },
    "kernelspec": {
      "name": "python3",
      "display_name": "Python 3"
    },
    "language_info": {
      "name": "python"
    }
  },
  "cells": [
    {
      "cell_type": "markdown",
      "metadata": {
        "id": "_NjbCOF_PimL"
      },
      "source": [
        "<h1>Exercicios do curso Python do Jeito Certo - Programação Dinamica</h1>\n",
        "Esta é uma lista de exercícios básicos do curso ministrado por Allison Paz do Canal Programação Dinâmica, nela contém exercícios para relembrar algumas ferramentas de lógica de programação e estrutura de dados."
      ]
    },
    {
      "cell_type": "code",
      "metadata": {
        "id": "xfWsE0Ci-A_g"
      },
      "source": [
        ""
      ],
      "execution_count": null,
      "outputs": []
    },
    {
      "cell_type": "markdown",
      "metadata": {
        "id": "XaSrFF8I-Ix4"
      },
      "source": [
        "Faça um programa que recebe uma lista de números reais e exibe o seu maior elemento.\n"
      ]
    },
    {
      "cell_type": "code",
      "metadata": {
        "colab": {
          "base_uri": "https://localhost:8080/"
        },
        "id": "Nb9CX3MN-fZ-",
        "outputId": "ab78f1dc-150b-46a6-ad4d-bc0d61bf0155"
      },
      "source": [
        "import random\n",
        "lista = (random.sample(range(15000),k=30))\n",
        "\n",
        "\n",
        "maior = (max(lista))\n",
        "print(lista)\n",
        "print('')\n",
        "print(f'O maior número dessa lista é o número {maior}')\n"
      ],
      "execution_count": 97,
      "outputs": [
        {
          "output_type": "stream",
          "name": "stdout",
          "text": [
            "[9125, 8386, 9354, 7582, 1749, 2124, 3192, 14519, 4151, 9873, 13488, 10831, 3673, 11538, 5869, 3814, 831, 14466, 10048, 14535, 5312, 12138, 5940, 2434, 14238, 11535, 1153, 500, 12003, 14858]\n",
            "\n",
            "O maior número dessa lista é o número 14858\n"
          ]
        }
      ]
    },
    {
      "cell_type": "markdown",
      "metadata": {
        "id": "DhPifJIR-NF-"
      },
      "source": [
        "Faça um programa que recebe uma lista de números reais e exibe sua média.\n"
      ]
    },
    {
      "cell_type": "code",
      "metadata": {
        "colab": {
          "base_uri": "https://localhost:8080/"
        },
        "id": "7DeEXZpnBujw",
        "outputId": "00438e86-457d-4ecf-8343-9a9673263371"
      },
      "source": [
        "import statistics\n",
        "reais = random.sample(range(100), k=20)\n",
        "media = statistics.mean(reais)\n",
        "\n",
        "print(reais)\n",
        "print('')\n",
        "print(f'A média dessa lista é exatamente {media}')"
      ],
      "execution_count": 47,
      "outputs": [
        {
          "output_type": "stream",
          "name": "stdout",
          "text": [
            "[82, 45, 41, 48, 38, 12, 35, 15, 25, 44, 8, 58, 93, 23, 40, 90, 32, 69, 49, 87]\n",
            "\n",
            "A média dessa lista é exatamente 46.7\n"
          ]
        }
      ]
    },
    {
      "cell_type": "markdown",
      "metadata": {
        "id": "VisFBY5Y-PVG"
      },
      "source": [
        "Dada uma lista de números inteiros, faça um programa que responda a soma de todos os números pares na lista e o produto de todos os números ímpares.\n"
      ]
    },
    {
      "cell_type": "code",
      "metadata": {
        "colab": {
          "base_uri": "https://localhost:8080/"
        },
        "id": "bpSrIy_gDfcD",
        "outputId": "0366d94a-43e3-4377-aeec-6ea70fdcdd2f"
      },
      "source": [
        "lista = random.sample(range(40), k=20)\n",
        "pares = 0\n",
        "impares = 1\n",
        "for num in lista:\n",
        "  if num % 2 == 0:\n",
        "    pares = pares + num\n",
        "  else:\n",
        "    impares = impares * num\n",
        "\n",
        "print(f'Impares: {impares} |Pares: {pares} ')"
      ],
      "execution_count": 100,
      "outputs": [
        {
          "output_type": "stream",
          "name": "stdout",
          "text": [
            "Impares: 1642065665625 |Pares: 164 \n"
          ]
        }
      ]
    },
    {
      "cell_type": "markdown",
      "metadata": {
        "id": "ulttUtHU-SM1"
      },
      "source": [
        "#Faça um programa que receba um número e exiba o fatorial desse número.\n",
        "O fatorial de um número inteiro e positivo “n”, representado por “n!” é obtido a partir da multiplicação de todos os seus antecessores até o número um, cuja expressão genérica é n! = n . (n – 1). (n – 2). (n – 3) ... 2,1. \n",
        "\n",
        "Pela definição dada, o fatorial de 2 corresponde a 2! (lê-se 2 fatorial), sendo assim 2! = 2 . 1 = 2. Veja abaixo o fatorial de outros números inteiros: \n",
        "\n",
        "• 3! = 3 . 2 . 1 = 6 <br>\n",
        "• 4! = 4. 3 . 2 . 1 = 24 <br>\n",
        "• 5! = 5 . 4 . 3 . 2 . 1 = 120 <br>\n",
        "• 6! = 6 . 5 . 4 . 3 . 2 . 1 = 720 <br>\n",
        "• 7! = 7 . 6 . 5 . 4 . 3 . 2 . 1 = 5.040 <br>\n",
        "• 8! = 8 . 7 . 6 . 5 . 4 . 3 . 2 . 1 = 40.320 <br>\n",
        "• 9! = 9 . 8 . 7 . 6 . 5 . 4 . 3 . 2 . 1 = 362.880 <br>\n",
        "• 10! = 10 . 9 . 8 . 7 . 6 . 5 . 4 . 3 . 2 . 1 = 3.628.800<br>\n",
        "**Importante❗ 0! = 1 e 1! = 1**\n"
      ]
    },
    {
      "cell_type": "code",
      "metadata": {
        "colab": {
          "base_uri": "https://localhost:8080/"
        },
        "id": "MIPyHRz4Izlr",
        "outputId": "edc28977-3393-47bb-8c3b-3b94f429a24f"
      },
      "source": [
        "numero = input('Digite aqui um número para encontrar o fatorial: ')\n",
        "num = int(numero)\n",
        "fatorial = 1\n",
        "while num > 0:\n",
        "  fatorial = (fatorial * num)\n",
        "  num = num - 1\n",
        "print(f'O fatorial do {numero} numero é {fatorial}')"
      ],
      "execution_count": 108,
      "outputs": [
        {
          "output_type": "stream",
          "name": "stdout",
          "text": [
            "Digite aqui um número para encontrar o fatorial: 32\n",
            "O fatorial do 32 numero é 263130836933693530167218012160000000\n"
          ]
        }
      ]
    },
    {
      "cell_type": "markdown",
      "metadata": {
        "id": "FqDM3lB6-XXd"
      },
      "source": [
        "Dada uma lista de números inteiros e um número inteiro desejado, responder qual o índice deste número na lista.\n"
      ]
    },
    {
      "cell_type": "code",
      "metadata": {
        "id": "8MnVOL6RMNgU"
      },
      "source": [
        ""
      ],
      "execution_count": null,
      "outputs": []
    },
    {
      "cell_type": "markdown",
      "metadata": {
        "id": "e_cDXTkS-ZX9"
      },
      "source": [
        "Faça um programa que verifique se uma string possui caracteres duplicados.\n"
      ]
    },
    {
      "cell_type": "markdown",
      "metadata": {
        "id": "kbBkuld5-bU-"
      },
      "source": [
        "Faça um programa que receba uma string que seja uma combinação dos seguintes caracteres: '-', 'a', 't', 'c', 'g'. Eles podem aparecer em qualquer ordem e múltiplas vezes, por exemplo: '---agcatg-c-c-a-ttt--' A saída do programa deve ser:\n",
        "7a) A string de entrada sem os '-' do início. No caso do exemplo: 'agcatg-c-c-a-ttt--'\n",
        "7b) A string de entrada sem os '-' do final. No caso do exemplo: '---agcatg-c-c-a-ttt'\n",
        "7c) A string de entrada sem os '-' início e do final. No caso do exemplo: 'agcatg-c-c-a-ttt'"
      ]
    }
  ]
}