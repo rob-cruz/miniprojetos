{
  "nbformat": 4,
  "nbformat_minor": 0,
  "metadata": {
    "colab": {
      "name": "TSE_Obrigatoriedade_Voto.ipynb",
      "provenance": []
    },
    "kernelspec": {
      "name": "python3",
      "display_name": "Python 3"
    },
    "language_info": {
      "name": "python"
    }
  },
  "cells": [
    {
      "cell_type": "markdown",
      "metadata": {
        "id": "Idz0g-x9mSMd"
      },
      "source": [
        "<h1>Regras de negócio:</h1>\n",
        "<h3>Definir se uma pessoa é obrigada a votar, se o voto é facutativo, ou ainda se ela está impedida de votar </h3>\n",
        "\n",
        "\n",
        "<ul>\n",
        "  <li>\n",
        "    Se a pessoa tem menos de 16 está impedida de votar\n",
        "  </li>\n",
        "  <li>\n",
        "    Para pessoas que tem mais de 16 e menos de 18 e as que tem mais de 70 anos, o voto passa a ser facultativo\n",
        "  </li>\n",
        "  <li>\n",
        "    Pessoas com idade entre 18 e 70 anos, o voto é obrigatório\n",
        "  </li>\n",
        "    <li>\n",
        "    Também estão desobrigados a votar as pessoas que estão em condição de analfabetas, ou seja, para essas pessoas, o voto passa a ser facultatibo também\n",
        "  </li>\n",
        "</ul>"
      ]
    },
    {
      "cell_type": "code",
      "metadata": {
        "id": "qejxmspDlGWZ",
        "colab": {
          "base_uri": "https://localhost:8080/"
        },
        "outputId": "f0694468-df48-40f4-d64a-3fcbbb255527"
      },
      "source": [
        "idade = int(input(\"Por favor, informe sua idade: \"))\n",
        "if idade >= 18 and idade < 70:\n",
        "  print(f\"Caro(a) eleitor(a), com {idade} anos, você é obrigado(a) a votar!\")\n",
        "elif idade >= 16: #and idade <18 or (idade >= 70):\n",
        "  print(f\"Caro(a) eleitor(a), com {idade} anos, o seu voto é facultativo\")\n",
        "else:\n",
        "  print(f\"Caro, futuro eleitor, com a idade de {idade} anos, você ainda não pode votar, mas espere mais um pouco, sua hora vai chegar!\")"
      ],
      "execution_count": null,
      "outputs": [
        {
          "output_type": "stream",
          "name": "stdout",
          "text": [
            "Por favor, informe sua idade: 14\n",
            "Caro, futuro eleitor, com a idade de 14 anos, você ainda não pode votar, mas espere mais um pouco, sua hora vai chegar!\n"
          ]
        }
      ]
    },
    {
      "cell_type": "markdown",
      "metadata": {
        "id": "YkfwuFp8xG89"
      },
      "source": [
        "#Variáveis e tipos de Dados"
      ]
    },
    {
      "cell_type": "code",
      "metadata": {
        "id": "qnXQOHkMxLIM"
      },
      "source": [
        "# int - inteiro\n",
        "dia = 9\n",
        "#Float ponto flutuante - Valores fracionados\n",
        "valor = 49.98828289\n",
        "#str - String\n",
        "fruta = \"Camarão\"\n",
        "mensagem = (\"Eu sou uma string legal\")\n",
        "#bool - booleano\n",
        "situacao_regular = True"
      ],
      "execution_count": null,
      "outputs": []
    },
    {
      "cell_type": "markdown",
      "metadata": {
        "id": "A7fCgpxGzVm5"
      },
      "source": [
        "# Saida de dados (print)"
      ]
    },
    {
      "cell_type": "code",
      "metadata": {
        "colab": {
          "base_uri": "https://localhost:8080/"
        },
        "id": "AJ6JyOsnznqD",
        "outputId": "4c618198-d245-4176-c43d-27c94b3159f3"
      },
      "source": [
        "print(dia - 1)\n",
        "print(valor)\n",
        "print(fruta)\n",
        "print(mensagem)\n",
        "print(situacao_regular)"
      ],
      "execution_count": null,
      "outputs": [
        {
          "output_type": "stream",
          "name": "stdout",
          "text": [
            "8\n",
            "49.98828289\n",
            "Camarão\n",
            "Eu sou uma string legal\n",
            "True\n"
          ]
        }
      ]
    },
    {
      "cell_type": "markdown",
      "metadata": {
        "id": "M0gsAm740y8O"
      },
      "source": [
        "#1. recebe um número inteiro do usuário e responde se esse número é par ou não. \n",
        "##Um número é dito par se ele é divisível por 2"
      ]
    },
    {
      "cell_type": "code",
      "metadata": {
        "colab": {
          "base_uri": "https://localhost:8080/"
        },
        "id": "3RWgev-0NX9j",
        "outputId": "fcf0ba96-4833-4861-9404-d4b9c2e78356"
      },
      "source": [
        "num = input(\"Digite um número: \")\n",
        "valida = int(num) % 2\n",
        "\n",
        "if valida == 0:\n",
        "  print(f\"O número {num} é par\")\n",
        "else:\n",
        "  print(f\"O número {num} é impar\")"
      ],
      "execution_count": 20,
      "outputs": [
        {
          "output_type": "stream",
          "name": "stdout",
          "text": [
            "Digite um número: 09832047283470\n",
            "O número 09832047283470 é par\n"
          ]
        }
      ]
    },
    {
      "cell_type": "markdown",
      "metadata": {
        "id": "-ZAUh1r0QKW1"
      },
      "source": [
        "#Avalia a obrigatoriedade do voto de outra forma, mas mantendo as 3 respostas corretas (obrigatório, facultativo, proibido).\n",
        "<p>Se o Eleitor tiver entre 18 e 69 anos (inclusivo) é obrigado a votar</p>\n",
        "<p>Para o Eleitor que tem entre 16 e 17 anos ou 70 anos, ou mais, o voto é facultativo</p>\n",
        "<p>Se o Eleitor tiver 15 anos, ou menos, está proibido de votar.</p>\n"
      ]
    },
    {
      "cell_type": "code",
      "metadata": {
        "colab": {
          "base_uri": "https://localhost:8080/"
        },
        "id": "tEnjAByjQ2td",
        "outputId": "1d54b206-bf0d-4a3d-c40d-e648dcf5dbcf"
      },
      "source": [
        "idade = input(\"Caro(a) Eleitor(a), por favor, informe a sua idade: \")\n",
        "idade = int(idade)\n",
        "\n",
        "if idade >= 18 and idade < 70:\n",
        "  print(f\"Com {idade} anos, o seu voto é obrigatório!\") \n",
        "elif idade >= 16:\n",
        "  print(f\"Com {idade} anos, o seu voto é facultativo. Mas lembre-se, ele é um direito seu!\")\n",
        "else:\n",
        "  print(f\"Com {idade} anos, você ainda não pode votar, mas em breve poderá exercer seu direito, tenha paciência! \")"
      ],
      "execution_count": 30,
      "outputs": [
        {
          "output_type": "stream",
          "name": "stdout",
          "text": [
            "Caro(a) Eleitor(a), por favor, informe a sua idade: 90\n",
            "Com 90 anos, o seu voto é facultativo. Mas lembre-se, ele é um direito seu!\n"
          ]
        }
      ]
    },
    {
      "cell_type": "markdown",
      "metadata": {
        "id": "GzO1GCf_UZLb"
      },
      "source": [
        "#Pedra Papel e Tesoura\n",
        "**Nosso objetivo é implementar o jogo \"Pedra, Papel e Tesoura\"**, utilizando a linha de comando.\n",
        "\n",
        "O jogo é bem simples. Teremos 2 jogadores que deverão escolher entre *pedra*, *papel* ou *tesoura*. Após ambos terem escolhido com qual objeto jogar, deve-se declarar o resultado segundo as regras seguintes:\n",
        "\n",
        "I. Pedra vence Tesoura.\n",
        "\n",
        "II. Tesoura vence Papel.\n",
        "\n",
        "III. Papel vence Pedra.\n",
        "\n",
        "IV. Quando ambos são iguais, temos um empate.\n",
        "\n",
        "Na vida real, ambos os jogadores escolhem ao mesmo tempo, mostrando suas mãos. Ainda não sabemos como fazer isso, então nosso programa vai funcionar da seguinte maneira:\n",
        "\n",
        "I. Ao executar o programa, ele deve escrever o nome do jogo e pedir que o jogador 1 faça sua escolha.\n",
        "\n",
        "II. O programa aguarda o jogador 1 digitar sua escolha e pressionar *Enter*\n",
        "\n",
        "III. O programa pede que o jogador 2 digite sua escolha\n",
        "\n",
        "IV. O programa aguarda o jogador 2 digitar sua escolha e pressionar *Enter*\n",
        "\n",
        "V. O programa analisa as 2 escolhas e declara o campeão ou um empate\n",
        "\n",
        "Obs: O jogador 1 está em clara desvantagem, pois o jogador 2 escolhe já sabendo como ganhar. Não se preocupe com isso agora, mantenha o foco na correta interpretação dos resultados. Poderemos corrigir esta desvantagem quando aprendermos a usar alguns módulos da linguagem."
      ]
    },
    {
      "cell_type": "code",
      "metadata": {
        "colab": {
          "base_uri": "https://localhost:8080/"
        },
        "id": "uz7DBY0TX7jU",
        "outputId": "9cfe62de-6497-4832-b19e-9c695364513f"
      },
      "source": [
        "\n",
        "\n",
        "print(random.randrange(1, 4))"
      ],
      "execution_count": 53,
      "outputs": [
        {
          "output_type": "stream",
          "name": "stdout",
          "text": [
            "2\n"
          ]
        }
      ]
    },
    {
      "cell_type": "code",
      "metadata": {
        "colab": {
          "base_uri": "https://localhost:8080/"
        },
        "id": "sdEjkcJkUiKj",
        "outputId": "42735a0c-0ba0-4fa5-98de-13e37c7e9547"
      },
      "source": [
        "import random\n",
        "# Pedra = 1\n",
        "# Papel = 2\n",
        "# Tespura = 3\n",
        "j1 = input(\"Escolha uma opção: 1 = Pedra | 2 = Papel | 3 = Tesoura \")\n",
        "j1 = int(j1)\n",
        "j2 = random.randrange(1, 4)\n",
        "print(j2)\n",
        "if j1 >= 4:\n",
        "  print(\"Você precisa escolher entre 1, 2 ou 3!\")\n",
        "elif j1 == 1 and j2 == 2:\n",
        "  print(\"Papel cobre a pedra, jogador 2 venceu!\")\n",
        "elif j1 == 1 and j2 == 3:\n",
        "  print(\"Pedra quebra Tesoura, jogador 1 venceu!\")\n",
        "elif j1 == 3 and j2 == 2:\n",
        "  print(\"Tesoura corta papel, jogador 1 venceu!\")\n",
        "elif j2 ==3 and j1 == 2:\n",
        "  print(\"Tesoura corta papel, jogador 2 venceu!\")  \n",
        "elif j2 == 1 and j1 == 2:\n",
        "  print(\"Papel cobre a pedra, jogador 1 venceu!\")\n",
        "elif j2 == 1 and j1 == 3:\n",
        "  print(\"Pedra quebra Tesoura, jogador 2 venceu!\")\n",
        "elif j1 == j2:\n",
        "  print(\"Houve um empate\")\n",
        "\n"
      ],
      "execution_count": 109,
      "outputs": [
        {
          "output_type": "stream",
          "name": "stdout",
          "text": [
            "Escolha uma opção: 1 = Pedra | 2 = Papel | 3 = Tesoura 1\n",
            "3\n",
            "Pedra quebra Tesoura, jogador 1 venceu!\n"
          ]
        }
      ]
    }
  ]
}